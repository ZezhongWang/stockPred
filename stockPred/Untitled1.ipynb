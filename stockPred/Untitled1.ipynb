{
 "cells": [
  {
   "cell_type": "code",
   "execution_count": null,
   "metadata": {
    "collapsed": true
   },
   "outputs": [],
   "source": [
    "import os\n",
    "import pandas as pd\n",
    "\n",
    "class CalcCorrMatrix(object):\n",
    "    # Jia heng Li\n",
    "\n",
    "    def run(self):\n",
    "        corr_pairs = []\n",
    "        stock_panel = self.readfiles()\n",
    "\n",
    "        # delete empty data\n",
    "        for item, value in stock_panel.iteritems():\n",
    "            stock_frame = stock_panel[item]\n",
    "            stock_frame = stock_frame.dropna(axis=1, how='all')\n",
    "            if len(stock_frame.columns) == 0:\n",
    "                stock_panel = stock_panel.drop([item], axis=0)\n",
    "\n",
    "        # calculate correlations and get correlate pairs\n",
    "        key = ['p_change']\n",
    "        for key_iter in range(len(key)):\n",
    "            compare = []\n",
    "            for item, value in stock_panel.iteritems():\n",
    "                compare.append(value[key[key_iter]].tolist())\n",
    "            df = pd.DataFrame(compare)\n",
    "            df = df.transpose()\n",
    "            corr = df.corr()\n",
    "            corr = pd.DataFrame(corr.values, index=stock_panel.items, columns=stock_panel.items)\n",
    "            corr = corr[corr>0.5]\n",
    "            corr = corr.dropna(axis=1, how='all').dropna(axis=0, how='all')\n",
    "            for index, items in corr.iterrows():\n",
    "                for columns in items.index:\n",
    "                    if items[columns] > 0:\n",
    "                        corr_pairs.append([items, columns])\n",
    "\n",
    "        return corr_pairs\n",
    "\n",
    "    def readfiles(self):\n",
    "        path = os.walk('/bbox/data/5min')\n",
    "        root = \"\"\n",
    "        files = []\n",
    "        for root_path, dirs, contained_files in path:\n",
    "            root = root_path\n",
    "            files = contained_files\n",
    "\n",
    "        stock_dict = {}\n",
    "        for one_file in files:\n",
    "            stock_data = pd.read_csv(root + '/' + one_file)\n",
    "            if stock_data.empty:\n",
    "                continue\n",
    "            stock_code = one_file.split('.')[0]\n",
    "            stock_dict[stock_code] = stock_data\n",
    "        stock_panel = pd.Panel(stock_dict)\n",
    "\n",
    "        return stock_panel\n"
   ]
  }
 ],
 "metadata": {
  "kernelspec": {
   "display_name": "Python 2",
   "language": "python",
   "name": "python2"
  },
  "language_info": {
   "codemirror_mode": {
    "name": "ipython",
    "version": 2
   },
   "file_extension": ".py",
   "mimetype": "text/x-python",
   "name": "python",
   "nbconvert_exporter": "python",
   "pygments_lexer": "ipython2",
   "version": "2.7.14"
  }
 },
 "nbformat": 4,
 "nbformat_minor": 2
}
